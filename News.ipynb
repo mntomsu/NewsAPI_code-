{
  "nbformat": 4,
  "nbformat_minor": 0,
  "metadata": {
    "colab": {
      "provenance": [],
      "authorship_tag": "ABX9TyNIVmA0cNXGj56iGUAv/Ij2",
      "include_colab_link": true
    },
    "kernelspec": {
      "name": "python3",
      "display_name": "Python 3"
    },
    "language_info": {
      "name": "python"
    }
  },
  "cells": [
    {
      "cell_type": "markdown",
      "metadata": {
        "id": "view-in-github",
        "colab_type": "text"
      },
      "source": [
        "<a href=\"https://colab.research.google.com/github/mntomsu/NewsAPI_code-/blob/main/News.ipynb\" target=\"_parent\"><img src=\"https://colab.research.google.com/assets/colab-badge.svg\" alt=\"Open In Colab\"/></a>"
      ]
    },
    {
      "cell_type": "code",
      "execution_count": null,
      "metadata": {
        "colab": {
          "base_uri": "https://localhost:8080/"
        },
        "id": "KROLjUG-U2yg",
        "outputId": "fc7c07b5-3f19-4b61-e9c1-d0d8fd9d4b31"
      },
      "outputs": [
        {
          "output_type": "stream",
          "name": "stdout",
          "text": [
            "Введите тему для поиска новостей: ESG-strategy\n",
            "\n",
            "Найденные новости:\n",
            "\n",
            "Заголовок: Costco's DEI clash has companies taking notes. Some, like Disney, are making changes.\n",
            "Описание: A highly visible campaign against DEI is underway. Corporate executives face a delicate balancing act over how to run their businesses.\n",
            "Ссылка: https://www.businessinsider.com/dei-costco-disney-jpmorgan-company-policy-changes-2025-2\n",
            "----------------------------------------\n",
            "\n",
            "Заголовок: The Great Wealth Transfer: Managing Inheritance In Trusts\n",
            "Описание: Wealth Transfer, Trusts, inheritance, Prudent Person Rule, Trust Management, Investment Management, Asset Diversification, Inflation Protection, Professional Management, Technology Integration, ESG Considerations, Flexible Structures, Beneficiaries, Trustees,…\n",
            "Ссылка: https://www.forbes.com/sites/matthewerskine/2025/02/13/the-great-wealth-transfer-managing-inheritance-in-trusts/\n",
            "----------------------------------------\n",
            "\n",
            "Заголовок: Juventus FC Looks To Become Serie A’s Most Sustainable Soccer Club\n",
            "Описание: At the end of 2024, Juventus FC launched a new sustainability strategy to tackle ESG in a more holistic manner. The Turin club wants lead Serie A's sustainability charge.\n",
            "Ссылка: https://www.forbes.com/sites/vitascarosella/2025/02/12/juventus-fc-looks-to-become-serie-as-most-sustainable-soccer-club/\n",
            "----------------------------------------\n",
            "\n",
            "Заголовок: Strategy Partners: ESG-инициативы в странах БРИКС становятся более значимы\n",
            "Описание: \n",
            "Ссылка: https://www.vedomosti.ru/esg/reports/news/2025/02/10/1091206-strategy-partners-esg-initsiativi-v-stranah-briks-stanovyatsya-bolee-znachimi\n",
            "----------------------------------------\n",
            "\n",
            "Заголовок: 18 Strategies Businesses Can Use To Prepare For ESG Investments\n",
            "Описание: Companies should prioritize transparent reporting, incorporate ESG measurements into financial planning and connect operations with investor sustainability expectations.\n",
            "Ссылка: https://www.forbes.com/councils/forbesfinancecouncil/2025/02/05/18-strategies-businesses-can-use-to-prepare-for-esg-investments/\n",
            "----------------------------------------\n"
          ]
        }
      ],
      "source": [
        "import requests\n",
        "\n",
        "def get_news():\n",
        "    # Спрашиваем у пользователя тему для поиска новостей\n",
        "    topic = input(\"Введите тему для поиска новостей: \")\n",
        "\n",
        "    # Вставьте сюда ваш API-ключ, полученный с https://newsapi.org/\n",
        "    api_key = \"ваш код\"\n",
        "\n",
        "    url = \"https://newsapi.org/v2/everything\"\n",
        "    params = {\n",
        "        \"q\": topic,        # ключевое слово для поиска\n",
        "        \"apiKey\": api_key, # API-ключ\n",
        "        \"pageSize\": 5      # ограничение вывода до 5 новостей\n",
        "    }\n",
        "\n",
        "    try:\n",
        "        response = requests.get(url, params=params)\n",
        "        response.raise_for_status()  # Проверка на ошибки HTTP\n",
        "\n",
        "        data = response.json()\n",
        "\n",
        "        # Проверка, что статус ответа \"ok\" и есть результаты\n",
        "        if data.get(\"status\") == \"ok\" and data.get(\"totalResults\", 0) > 0:\n",
        "            articles = data.get(\"articles\", [])\n",
        "            if articles:\n",
        "                print(\"\\nНайденные новости:\")\n",
        "                for article in articles:\n",
        "                    title = article.get(\"title\", \"Нет заголовка\")\n",
        "                    description = article.get(\"description\", \"Нет описания\")\n",
        "                    url_article = article.get(\"url\", \"Нет ссылки\")\n",
        "\n",
        "                    print(f\"\\nЗаголовок: {title}\")\n",
        "                    print(f\"Описание: {description}\")\n",
        "                    print(f\"Ссылка: {url_article}\")\n",
        "                    print(\"-\" * 40)\n",
        "            else:\n",
        "                print(\"По этой теме ничего не найдено.\")\n",
        "        else:\n",
        "            print(\"По этой теме ничего не найдено.\")\n",
        "    except requests.exceptions.RequestException as e:\n",
        "        print(\"Ошибка при подключении или запросе данных:\", e)\n",
        "    except Exception as e:\n",
        "        print(\"Произошла ошибка:\", e)\n",
        "\n",
        "if __name__ == \"__main__\":\n",
        "    get_news()\n"
      ]
    }
  ]
}